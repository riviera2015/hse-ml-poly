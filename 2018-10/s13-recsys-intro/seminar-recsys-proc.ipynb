{
 "cells": [
  {
   "cell_type": "markdown",
   "metadata": {},
   "source": [
    "<center><img src=\"img/logo_hse_black.jpg\"></center>\n",
    "\n",
    "<h1><center>Методы машинного обучения</center></h1>\n",
    "<h3><center> Шестаков Андрей (<a href=\"mailto:avshestakov@hse.ru\">avshestakov@hse.ru</a>)</center></h3>\n",
    "<hr>\n",
    "<h2><center>Введение в рекомендательные системы</center></h2>\n"
   ]
  },
  {
   "cell_type": "code",
   "execution_count": 30,
   "metadata": {},
   "outputs": [],
   "source": [
    "%matplotlib inline"
   ]
  },
  {
   "cell_type": "code",
   "execution_count": 31,
   "metadata": {},
   "outputs": [],
   "source": [
    "import os\n",
    "import numpy as np\n",
    "import pandas as pd\n",
    "import matplotlib.pyplot as plt\n",
    "from tqdm import tqdm_notebook\n",
    "\n",
    "plt.style.use('ggplot')\n",
    "plt.rcParams['figure.figsize'] = (12, 6)"
   ]
  },
  {
   "cell_type": "markdown",
   "metadata": {},
   "source": [
    "# Подготовка данных"
   ]
  },
  {
   "cell_type": "markdown",
   "metadata": {},
   "source": [
    "1. Загрузите рейтинги (user_ratedmovies.dat) и описание фильмов (movies.dat)\n",
    "2. С помощью LabelEncoder перекодируйте идентификаторы фильмов и юзеров в обоих датафреймах\n"
   ]
  },
  {
   "cell_type": "code",
   "execution_count": 32,
   "metadata": {},
   "outputs": [],
   "source": [
    "df_ratings = pd.read_csv('./data/user_ratedmovies.dat', sep='\\t')"
   ]
  },
  {
   "cell_type": "code",
   "execution_count": 33,
   "metadata": {},
   "outputs": [],
   "source": [
    "df_movies = pd.read_csv('./data/movies.dat', sep='\\t', encoding='latin1')"
   ]
  },
  {
   "cell_type": "code",
   "execution_count": 34,
   "metadata": {},
   "outputs": [],
   "source": [
    "from sklearn.preprocessing import LabelEncoder"
   ]
  },
  {
   "cell_type": "code",
   "execution_count": 35,
   "metadata": {},
   "outputs": [],
   "source": [
    "enc_users = LabelEncoder()\n",
    "enc_movies = LabelEncoder()"
   ]
  },
  {
   "cell_type": "code",
   "execution_count": 36,
   "metadata": {},
   "outputs": [
    {
     "data": {
      "text/plain": [
       "LabelEncoder()"
      ]
     },
     "execution_count": 36,
     "metadata": {},
     "output_type": "execute_result"
    }
   ],
   "source": [
    "enc_users.fit(df_ratings.userID.values)"
   ]
  },
  {
   "cell_type": "code",
   "execution_count": 37,
   "metadata": {},
   "outputs": [
    {
     "data": {
      "text/plain": [
       "LabelEncoder()"
      ]
     },
     "execution_count": 37,
     "metadata": {},
     "output_type": "execute_result"
    }
   ],
   "source": [
    "enc_movies.fit(np.r_[\n",
    "    df_movies.loc[:, 'id'].values,\n",
    "    df_ratings.loc[:, 'movieID'].values\n",
    "])"
   ]
  },
  {
   "cell_type": "code",
   "execution_count": 38,
   "metadata": {},
   "outputs": [],
   "source": [
    "df_ratings.loc[:, 'userID'] = enc_users.transform(df_ratings.userID.values)\n",
    "df_ratings.loc[:, 'movieID'] = enc_movies.transform(df_ratings.movieID.values)"
   ]
  },
  {
   "cell_type": "code",
   "execution_count": 39,
   "metadata": {},
   "outputs": [],
   "source": [
    "df_movies.loc[:, 'id'] = enc_movies.transform(df_movies.loc[:, 'id'].values)"
   ]
  },
  {
   "cell_type": "markdown",
   "metadata": {},
   "source": [
    "# Сжатое представление фильмов"
   ]
  },
  {
   "cell_type": "markdown",
   "metadata": {},
   "source": [
    "1. С помощью from scipy.sparse.coo_matrix составьте разреженную матрицу рейтингов\n",
    "2. С помощью scipy.sparse.linalg.svds получите латентное описание фильмов и пользователей\n",
    "3. Для каждого фильма найдите 10 ближайших соседей в этих признаках по косинусной мере"
   ]
  },
  {
   "cell_type": "code",
   "execution_count": 40,
   "metadata": {},
   "outputs": [],
   "source": [
    "from scipy.sparse import coo_matrix"
   ]
  },
  {
   "cell_type": "code",
   "execution_count": 43,
   "metadata": {},
   "outputs": [],
   "source": [
    "R = coo_matrix((df_ratings.rating.values, \n",
    "                (df_ratings.userID.values, df_ratings.movieID.values)), \n",
    "              )"
   ]
  },
  {
   "cell_type": "code",
   "execution_count": 44,
   "metadata": {},
   "outputs": [
    {
     "data": {
      "text/plain": [
       "<2113x10197 sparse matrix of type '<class 'numpy.float64'>'\n",
       "\twith 855598 stored elements in COOrdinate format>"
      ]
     },
     "execution_count": 44,
     "metadata": {},
     "output_type": "execute_result"
    }
   ],
   "source": [
    "R"
   ]
  },
  {
   "cell_type": "code",
   "execution_count": 45,
   "metadata": {},
   "outputs": [
    {
     "data": {
      "text/plain": [
       "21546261"
      ]
     },
     "execution_count": 45,
     "metadata": {},
     "output_type": "execute_result"
    }
   ],
   "source": [
    "2113*10197"
   ]
  },
  {
   "cell_type": "code",
   "execution_count": 46,
   "metadata": {},
   "outputs": [],
   "source": [
    "from scipy.sparse.linalg import svds"
   ]
  },
  {
   "cell_type": "code",
   "execution_count": 47,
   "metadata": {},
   "outputs": [],
   "source": [
    "u, s, v_t = svds(R, k=20)"
   ]
  },
  {
   "cell_type": "code",
   "execution_count": 48,
   "metadata": {},
   "outputs": [
    {
     "data": {
      "text/plain": [
       "(2113, 20)"
      ]
     },
     "execution_count": 48,
     "metadata": {},
     "output_type": "execute_result"
    }
   ],
   "source": [
    "u.shape"
   ]
  },
  {
   "cell_type": "code",
   "execution_count": 49,
   "metadata": {},
   "outputs": [
    {
     "data": {
      "text/plain": [
       "(20, 10197)"
      ]
     },
     "execution_count": 49,
     "metadata": {},
     "output_type": "execute_result"
    }
   ],
   "source": [
    "v_t.shape"
   ]
  },
  {
   "cell_type": "code",
   "execution_count": 50,
   "metadata": {},
   "outputs": [],
   "source": [
    "from sklearn.neighbors import NearestNeighbors"
   ]
  },
  {
   "cell_type": "code",
   "execution_count": 51,
   "metadata": {},
   "outputs": [],
   "source": [
    "v = v_t.T"
   ]
  },
  {
   "cell_type": "code",
   "execution_count": 52,
   "metadata": {},
   "outputs": [
    {
     "data": {
      "text/plain": [
       "(10197, 20)"
      ]
     },
     "execution_count": 52,
     "metadata": {},
     "output_type": "execute_result"
    }
   ],
   "source": [
    "v.shape"
   ]
  },
  {
   "cell_type": "code",
   "execution_count": 53,
   "metadata": {},
   "outputs": [],
   "source": [
    "nn = NearestNeighbors(n_neighbors=10)"
   ]
  },
  {
   "cell_type": "code",
   "execution_count": 54,
   "metadata": {},
   "outputs": [
    {
     "data": {
      "text/plain": [
       "NearestNeighbors(algorithm='auto', leaf_size=30, metric='minkowski',\n",
       "         metric_params=None, n_jobs=None, n_neighbors=10, p=2, radius=1.0)"
      ]
     },
     "execution_count": 54,
     "metadata": {},
     "output_type": "execute_result"
    }
   ],
   "source": [
    "nn.fit(v)"
   ]
  },
  {
   "cell_type": "code",
   "execution_count": 55,
   "metadata": {},
   "outputs": [],
   "source": [
    "idx = nn.kneighbors(v, n_neighbors=10, return_distance=False)"
   ]
  },
  {
   "cell_type": "code",
   "execution_count": 57,
   "metadata": {},
   "outputs": [
    {
     "data": {
      "text/plain": [
       "array([[   0, 2873,  565,  351,   33, 6010, 4007, 2138, 4576,  572],\n",
       "       [   1, 1848,  733,  354,  563,  639, 1532, 2078,   18,  149],\n",
       "       [   2, 3181,  414,    4,  678,  265,  402,  497,  853, 2991],\n",
       "       [   3,  967, 2052,  611, 1581, 4223,  267,  113, 1697, 4357],\n",
       "       [   4,  177, 6554, 4988, 1689, 5623,  414,  402, 7118, 1853],\n",
       "       [   5, 1330, 2062, 2271,  413, 1852,   15,  972, 2770,  455],\n",
       "       [   6,  225,   10, 3007,  326,  213,  197,  159,  772, 2642],\n",
       "       [   7, 4440, 6247,  247, 4761, 6184, 3132,  538, 5266,  583],\n",
       "       [   8, 1444, 1303,  904,  917,  663, 1258, 4310, 4779,  445],\n",
       "       [   9, 1548, 2842, 1447, 3343,  466,   92, 1246, 5533,  731]])"
      ]
     },
     "execution_count": 57,
     "metadata": {},
     "output_type": "execute_result"
    }
   ],
   "source": [
    "idx[:10]"
   ]
  },
  {
   "cell_type": "code",
   "execution_count": 58,
   "metadata": {},
   "outputs": [],
   "source": [
    "df_movies = df_movies.sort_values('id')"
   ]
  },
  {
   "cell_type": "code",
   "execution_count": 62,
   "metadata": {},
   "outputs": [],
   "source": [
    "movie_titles = df_movies.title.values"
   ]
  },
  {
   "cell_type": "code",
   "execution_count": 67,
   "metadata": {},
   "outputs": [],
   "source": [
    "df_nn_movies = pd.DataFrame(movie_titles[idx], columns=['movie']+\n",
    "                            ['nn_{}'.format(i) for i in range(1,10)])"
   ]
  },
  {
   "cell_type": "code",
   "execution_count": 80,
   "metadata": {},
   "outputs": [
    {
     "data": {
      "text/html": [
       "<div>\n",
       "<style scoped>\n",
       "    .dataframe tbody tr th:only-of-type {\n",
       "        vertical-align: middle;\n",
       "    }\n",
       "\n",
       "    .dataframe tbody tr th {\n",
       "        vertical-align: top;\n",
       "    }\n",
       "\n",
       "    .dataframe thead th {\n",
       "        text-align: right;\n",
       "    }\n",
       "</style>\n",
       "<table border=\"1\" class=\"dataframe\">\n",
       "  <thead>\n",
       "    <tr style=\"text-align: right;\">\n",
       "      <th></th>\n",
       "      <th>movie</th>\n",
       "      <th>nn_1</th>\n",
       "      <th>nn_2</th>\n",
       "      <th>nn_3</th>\n",
       "      <th>nn_4</th>\n",
       "      <th>nn_5</th>\n",
       "      <th>nn_6</th>\n",
       "      <th>nn_7</th>\n",
       "      <th>nn_8</th>\n",
       "      <th>nn_9</th>\n",
       "    </tr>\n",
       "  </thead>\n",
       "  <tbody>\n",
       "    <tr>\n",
       "      <th>787</th>\n",
       "      <td>The Godfather</td>\n",
       "      <td>The Godfather: Part II</td>\n",
       "      <td>Goodfellas</td>\n",
       "      <td>Taxi Driver</td>\n",
       "      <td>Apocalypse Now</td>\n",
       "      <td>One Flew Over the Cuckoo's Nest</td>\n",
       "      <td>Schindler's List</td>\n",
       "      <td>Casablanca</td>\n",
       "      <td>Chinatown</td>\n",
       "      <td>Raging Bull</td>\n",
       "    </tr>\n",
       "    <tr>\n",
       "      <th>1109</th>\n",
       "      <td>The Godfather: Part II</td>\n",
       "      <td>The Godfather</td>\n",
       "      <td>Goodfellas</td>\n",
       "      <td>Taxi Driver</td>\n",
       "      <td>Raging Bull</td>\n",
       "      <td>Apocalypse Now</td>\n",
       "      <td>Chinatown</td>\n",
       "      <td>Butch Cassidy and the Sundance Kid</td>\n",
       "      <td>The Godfather: Part III</td>\n",
       "      <td>Casablanca</td>\n",
       "    </tr>\n",
       "    <tr>\n",
       "      <th>1817</th>\n",
       "      <td>The Godfather: Part III</td>\n",
       "      <td>Once Upon a Time in America</td>\n",
       "      <td>Casino</td>\n",
       "      <td>Murder on the Orient Express</td>\n",
       "      <td>Saturday Night Fever</td>\n",
       "      <td>The Specialist</td>\n",
       "      <td>In the Name of the Father</td>\n",
       "      <td>The Deer Hunter</td>\n",
       "      <td>8MM</td>\n",
       "      <td>Rebel Without a Cause</td>\n",
       "    </tr>\n",
       "    <tr>\n",
       "      <th>7593</th>\n",
       "      <td>Tokyo Godfathers</td>\n",
       "      <td>Perfect Blue</td>\n",
       "      <td>Sennen joyû</td>\n",
       "      <td>Neko no ongaeshi</td>\n",
       "      <td>Six-String Samurai</td>\n",
       "      <td>Jin-Rô</td>\n",
       "      <td>Fong Sai Yuk</td>\n",
       "      <td>Dai-bosatsu tôge</td>\n",
       "      <td>The Mists of Avalon</td>\n",
       "      <td>Dreams</td>\n",
       "    </tr>\n",
       "    <tr>\n",
       "      <th>8048</th>\n",
       "      <td>The Godfather</td>\n",
       "      <td>Snitch</td>\n",
       "      <td>Kinsey</td>\n",
       "      <td>Follow Me, Boys!</td>\n",
       "      <td>4 for Texas</td>\n",
       "      <td>Walker, Texas Ranger</td>\n",
       "      <td>Sword of the Valiant: The Legend of Sir Gawain...</td>\n",
       "      <td>The Loves of Carmen</td>\n",
       "      <td>Arabian Nights</td>\n",
       "      <td>The Trojan Women</td>\n",
       "    </tr>\n",
       "  </tbody>\n",
       "</table>\n",
       "</div>"
      ],
      "text/plain": [
       "                        movie                         nn_1         nn_2  \\\n",
       "787             The Godfather       The Godfather: Part II   Goodfellas   \n",
       "1109   The Godfather: Part II                The Godfather   Goodfellas   \n",
       "1817  The Godfather: Part III  Once Upon a Time in America       Casino   \n",
       "7593         Tokyo Godfathers                 Perfect Blue  Sennen joyû   \n",
       "8048            The Godfather                       Snitch       Kinsey   \n",
       "\n",
       "                              nn_3                  nn_4  \\\n",
       "787                    Taxi Driver        Apocalypse Now   \n",
       "1109                   Taxi Driver           Raging Bull   \n",
       "1817  Murder on the Orient Express  Saturday Night Fever   \n",
       "7593              Neko no ongaeshi    Six-String Samurai   \n",
       "8048              Follow Me, Boys!           4 for Texas   \n",
       "\n",
       "                                 nn_5  \\\n",
       "787   One Flew Over the Cuckoo's Nest   \n",
       "1109                   Apocalypse Now   \n",
       "1817                   The Specialist   \n",
       "7593                           Jin-Rô   \n",
       "8048             Walker, Texas Ranger   \n",
       "\n",
       "                                                   nn_6  \\\n",
       "787                                    Schindler's List   \n",
       "1109                                          Chinatown   \n",
       "1817                          In the Name of the Father   \n",
       "7593                                       Fong Sai Yuk   \n",
       "8048  Sword of the Valiant: The Legend of Sir Gawain...   \n",
       "\n",
       "                                    nn_7                     nn_8  \\\n",
       "787                           Casablanca                Chinatown   \n",
       "1109  Butch Cassidy and the Sundance Kid  The Godfather: Part III   \n",
       "1817                     The Deer Hunter                      8MM   \n",
       "7593                    Dai-bosatsu tôge      The Mists of Avalon   \n",
       "8048                 The Loves of Carmen           Arabian Nights   \n",
       "\n",
       "                       nn_9  \n",
       "787             Raging Bull  \n",
       "1109             Casablanca  \n",
       "1817  Rebel Without a Cause  \n",
       "7593                 Dreams  \n",
       "8048       The Trojan Women  "
      ]
     },
     "execution_count": 80,
     "metadata": {},
     "output_type": "execute_result"
    }
   ],
   "source": [
    "movie_name = 'Godfather'\n",
    "idx = df_nn_movies.movie.str.contains(movie_name, case=False)\n",
    "df_nn_movies.loc[idx]"
   ]
  },
  {
   "cell_type": "markdown",
   "metadata": {},
   "source": [
    "# User-based CF"
   ]
  },
  {
   "cell_type": "code",
   "execution_count": null,
   "metadata": {},
   "outputs": [],
   "source": [
    "filepath = './data/user_ratedmovies_train.dat'\n",
    "idx = df_rates.datetime < q\n",
    "df_rates.loc[idx].to_csv(filepath, sep='\\t', columns=['userID', 'movieID', 'rating'], index=None)\n",
    "\n",
    "filepath = './data/user_ratedmovies_test.dat'\n",
    "df_rates.loc[~idx].to_csv(filepath, sep='\\t', columns=['userID', 'movieID', 'rating'], index=None)"
   ]
  },
  {
   "cell_type": "code",
   "execution_count": null,
   "metadata": {},
   "outputs": [],
   "source": [
    "!pip install surprise"
   ]
  },
  {
   "cell_type": "code",
   "execution_count": null,
   "metadata": {},
   "outputs": [],
   "source": [
    "from surprise import Dataset, Reader"
   ]
  },
  {
   "cell_type": "code",
   "execution_count": null,
   "metadata": {},
   "outputs": [],
   "source": [
    "filepaths = [('./data/user_ratedmovies_train.dat', './data/user_ratedmovies_test.dat')]\n",
    "reader = Reader(line_format='user item rating', sep='\\t', skip_lines=1)\n",
    "data = Dataset.load_from_folds(filepaths, reader=reader)"
   ]
  },
  {
   "cell_type": "code",
   "execution_count": null,
   "metadata": {},
   "outputs": [],
   "source": [
    "from surprise import KNNBasic, KNNWithMeans, KNNWithZScore\n",
    "from surprise.accuracy import rmse\n",
    "from surprise import dump"
   ]
  },
  {
   "cell_type": "markdown",
   "metadata": {},
   "source": [
    "Описание алгоритмов, основанных на CF - [туть](http://surprise.readthedocs.io/en/stable/knn_inspired.html)"
   ]
  },
  {
   "cell_type": "code",
   "execution_count": null,
   "metadata": {},
   "outputs": [],
   "source": [
    "sim_options = {'name': 'pearson',\n",
    "               'user_based': True,\n",
    "               'min_support': 5,\n",
    "               }"
   ]
  },
  {
   "cell_type": "code",
   "execution_count": null,
   "metadata": {},
   "outputs": [],
   "source": [
    "dumpfile = './alg.dump'"
   ]
  },
  {
   "cell_type": "code",
   "execution_count": null,
   "metadata": {},
   "outputs": [],
   "source": [
    "algo = KNNWithMeans(k=50, min_k=5, sim_options=sim_options)                                                       \n",
    "\n",
    "for trainset, testset in data.folds(): \n",
    "    algo.train(trainset)                             \n",
    "    predictions = algo.test(testset)\n",
    "    rmse(predictions)\n",
    "    \n",
    "    dump.dump(dumpfile, predictions, algo)"
   ]
  },
  {
   "cell_type": "code",
   "execution_count": null,
   "metadata": {},
   "outputs": [],
   "source": [
    "df_predictions = pd.DataFrame(predictions, columns=['uid', 'iid', 'rui', 'est', 'details']) "
   ]
  },
  {
   "cell_type": "code",
   "execution_count": null,
   "metadata": {},
   "outputs": [],
   "source": [
    "df_predictions.head()"
   ]
  },
  {
   "cell_type": "code",
   "execution_count": null,
   "metadata": {},
   "outputs": [],
   "source": [
    "algo.predict('1198', '5732')"
   ]
  },
  {
   "cell_type": "code",
   "execution_count": null,
   "metadata": {},
   "outputs": [],
   "source": [
    "anti_train = trainset.build_anti_testset()"
   ]
  },
  {
   "cell_type": "code",
   "execution_count": null,
   "metadata": {},
   "outputs": [],
   "source": [
    "user_id = '1897'\n",
    "one_user = filter(lambda r: r[0] == user_id, anti_train)"
   ]
  },
  {
   "cell_type": "code",
   "execution_count": null,
   "metadata": {},
   "outputs": [],
   "source": [
    "from collections import defaultdict\n",
    "\n",
    "def get_top_n(predictions, n=10):\n",
    "\n",
    "    # First map the predictions to each user.\n",
    "    top_n = defaultdict(list)\n",
    "    for uid, iid, true_r, est, _ in predictions:\n",
    "        top_n[uid].append((iid, est))\n",
    "\n",
    "    # Then sort the predictions for each user and retrieve the k highest ones.\n",
    "    for uid, user_ratings in top_n.items():\n",
    "        user_ratings.sort(key=lambda x: x[1], reverse=True)\n",
    "        top_n[uid] = user_ratings[:n]\n",
    "\n",
    "    return top_n"
   ]
  },
  {
   "cell_type": "code",
   "execution_count": null,
   "metadata": {},
   "outputs": [],
   "source": [
    "anti_train_predictions = algo.test(one_user, verbose=0)"
   ]
  },
  {
   "cell_type": "code",
   "execution_count": null,
   "metadata": {},
   "outputs": [],
   "source": [
    "top_n = get_top_n(anti_train_predictions, n=10)\n",
    "\n",
    "for uid, user_ratings in top_n.items():\n",
    "    for (iid, _) in user_ratings:\n",
    "        print(df_movies.loc[iid, 'title'])"
   ]
  },
  {
   "cell_type": "code",
   "execution_count": null,
   "metadata": {
    "scrolled": true
   },
   "outputs": [],
   "source": [
    "top_n"
   ]
  }
 ],
 "metadata": {
  "anaconda-cloud": {},
  "kernelspec": {
   "display_name": "Python 3",
   "language": "python",
   "name": "python3"
  },
  "language_info": {
   "codemirror_mode": {
    "name": "ipython",
    "version": 3
   },
   "file_extension": ".py",
   "mimetype": "text/x-python",
   "name": "python",
   "nbconvert_exporter": "python",
   "pygments_lexer": "ipython3",
   "version": "3.7.2"
  },
  "nav_menu": {},
  "toc": {
   "base_numbering": 1,
   "nav_menu": {
    "height": "216px",
    "width": "252px"
   },
   "number_sections": false,
   "sideBar": true,
   "skip_h1_title": false,
   "title_cell": "Table of Contents",
   "title_sidebar": "Contents",
   "toc_cell": false,
   "toc_position": {
    "height": "calc(100% - 180px)",
    "left": "10px",
    "top": "150px",
    "width": "169.333px"
   },
   "toc_section_display": true,
   "toc_window_display": true
  }
 },
 "nbformat": 4,
 "nbformat_minor": 1
}
