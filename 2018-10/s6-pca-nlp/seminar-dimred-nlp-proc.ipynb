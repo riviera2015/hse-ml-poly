{
 "cells": [
  {
   "cell_type": "markdown",
   "metadata": {},
   "source": [
    "<center><img src=\"img/logo_hse_black.jpg\"></center>\n",
    "\n",
    "<h1><center>Методы машинного обучения</center></h1>\n",
    "<h2><center>Семинар: методы сжатия признаков</center></h2>\n",
    "<h2><center>Введение в NLP</center></h2>"
   ]
  },
  {
   "cell_type": "code",
   "execution_count": 1,
   "metadata": {},
   "outputs": [],
   "source": [
    "%matplotlib inline"
   ]
  },
  {
   "cell_type": "code",
   "execution_count": 2,
   "metadata": {},
   "outputs": [],
   "source": [
    "import pandas as pd\n",
    "import numpy as np\n",
    "import matplotlib.pyplot as plt\n",
    "\n",
    "plt.style.use('ggplot')\n",
    "plt.rcParams['figure.figsize'] = (12,8)"
   ]
  },
  {
   "cell_type": "markdown",
   "metadata": {},
   "source": [
    "# Методы понижения размерности"
   ]
  },
  {
   "cell_type": "code",
   "execution_count": 3,
   "metadata": {},
   "outputs": [],
   "source": [
    "# Load data\n",
    "df_wine = pd.read_csv('data/winequality-red.csv', sep=';')\n",
    "\n",
    "# Make classification target feature\n",
    "df_wine.loc[:, 'quality_cat'] = (df_wine.quality > 5).astype(int)\n",
    "df_wine = df_wine.drop('quality', axis=1)\n",
    "\n",
    "# Get descriptive and target features\n",
    "X = df_wine.iloc[:, :-1].values\n",
    "y = df_wine.iloc[:, -1].values"
   ]
  },
  {
   "cell_type": "markdown",
   "metadata": {},
   "source": [
    "## PCA"
   ]
  },
  {
   "cell_type": "markdown",
   "metadata": {},
   "source": [
    "Попробуем получить PCA разными способами"
   ]
  },
  {
   "cell_type": "markdown",
   "metadata": {},
   "source": [
    "## PCA через sklearn"
   ]
  },
  {
   "cell_type": "code",
   "execution_count": 4,
   "metadata": {},
   "outputs": [],
   "source": [
    "from sklearn.decomposition import PCA"
   ]
  },
  {
   "cell_type": "code",
   "execution_count": 6,
   "metadata": {},
   "outputs": [
    {
     "data": {
      "text/plain": [
       "(1599, 11)"
      ]
     },
     "execution_count": 6,
     "metadata": {},
     "output_type": "execute_result"
    }
   ],
   "source": [
    "X.shape"
   ]
  },
  {
   "cell_type": "code",
   "execution_count": 5,
   "metadata": {},
   "outputs": [],
   "source": [
    "pca = PCA(n_components=5, random_state=123)"
   ]
  },
  {
   "cell_type": "code",
   "execution_count": 7,
   "metadata": {},
   "outputs": [
    {
     "data": {
      "text/plain": [
       "PCA(copy=True, iterated_power='auto', n_components=5, random_state=None,\n",
       "  svd_solver='auto', tol=0.0, whiten=False)"
      ]
     },
     "execution_count": 7,
     "metadata": {},
     "output_type": "execute_result"
    }
   ],
   "source": [
    "pca.fit(X)"
   ]
  },
  {
   "cell_type": "code",
   "execution_count": 8,
   "metadata": {},
   "outputs": [],
   "source": [
    "Z = pca.transform(X)"
   ]
  },
  {
   "cell_type": "code",
   "execution_count": 9,
   "metadata": {},
   "outputs": [
    {
     "data": {
      "text/plain": [
       "(1599, 5)"
      ]
     },
     "execution_count": 9,
     "metadata": {},
     "output_type": "execute_result"
    }
   ],
   "source": [
    "Z.shape"
   ]
  },
  {
   "cell_type": "code",
   "execution_count": 11,
   "metadata": {},
   "outputs": [
    {
     "data": {
      "text/plain": [
       "(5, 11)"
      ]
     },
     "execution_count": 11,
     "metadata": {},
     "output_type": "execute_result"
    }
   ],
   "source": [
    "pca.components_.shape"
   ]
  },
  {
   "cell_type": "code",
   "execution_count": 12,
   "metadata": {},
   "outputs": [
    {
     "data": {
      "text/plain": [
       "array([[-13.22490501,  -2.02389981,  -1.12682053,  -0.39923318,\n",
       "         -1.08538902],\n",
       "       [ 22.03772361,   4.40832155,  -0.31037799,  -0.19993774,\n",
       "         -0.55710939],\n",
       "       [  7.16267333,  -2.50146086,  -0.5818683 ,  -0.21906928,\n",
       "         -0.55293355],\n",
       "       [ 13.43006283,  -1.95112215,   2.63403954,  -1.5740594 ,\n",
       "         -0.06380573],\n",
       "       [-13.22490501,  -2.02389981,  -1.12682053,  -0.39923318,\n",
       "         -1.08538902]])"
      ]
     },
     "execution_count": 12,
     "metadata": {},
     "output_type": "execute_result"
    }
   ],
   "source": [
    "Z[:5]"
   ]
  },
  {
   "cell_type": "code",
   "execution_count": 17,
   "metadata": {},
   "outputs": [
    {
     "data": {
      "text/plain": [
       "array([ 8.31963727,  0.52782051,  0.27097561,  2.5388055 ,  0.08746654,\n",
       "       15.87492183, 46.46779237,  0.99674668,  3.3111132 ,  0.65814884,\n",
       "       10.42298311])"
      ]
     },
     "execution_count": 17,
     "metadata": {},
     "output_type": "execute_result"
    }
   ],
   "source": [
    "X.mean(axis=0)"
   ]
  },
  {
   "cell_type": "code",
   "execution_count": 15,
   "metadata": {},
   "outputs": [
    {
     "data": {
      "text/plain": [
       "array([ 8.31963727,  0.52782051,  0.27097561,  2.5388055 ,  0.08746654,\n",
       "       15.87492183, 46.46779237,  0.99674668,  3.3111132 ,  0.65814884,\n",
       "       10.42298311])"
      ]
     },
     "execution_count": 15,
     "metadata": {},
     "output_type": "execute_result"
    }
   ],
   "source": [
    "pca.mean_"
   ]
  },
  {
   "cell_type": "code",
   "execution_count": 18,
   "metadata": {},
   "outputs": [],
   "source": [
    "X_ = X - X.mean(axis=0)"
   ]
  },
  {
   "cell_type": "code",
   "execution_count": 19,
   "metadata": {},
   "outputs": [],
   "source": [
    "Z_ = X_.dot(pca.components_.T)"
   ]
  },
  {
   "cell_type": "code",
   "execution_count": 20,
   "metadata": {},
   "outputs": [
    {
     "data": {
      "text/plain": [
       "array([[-13.22490501,  -2.02389981,  -1.12682053,  -0.39923318,\n",
       "         -1.08538902],\n",
       "       [ 22.03772361,   4.40832155,  -0.31037799,  -0.19993774,\n",
       "         -0.55710939],\n",
       "       [  7.16267333,  -2.50146086,  -0.5818683 ,  -0.21906928,\n",
       "         -0.55293355],\n",
       "       [ 13.43006283,  -1.95112215,   2.63403954,  -1.5740594 ,\n",
       "         -0.06380573],\n",
       "       [-13.22490501,  -2.02389981,  -1.12682053,  -0.39923318,\n",
       "         -1.08538902]])"
      ]
     },
     "execution_count": 20,
     "metadata": {},
     "output_type": "execute_result"
    }
   ],
   "source": [
    "Z_[:5]"
   ]
  },
  {
   "cell_type": "code",
   "execution_count": 21,
   "metadata": {},
   "outputs": [],
   "source": [
    "# А теперь еще и шкалируем признаки\n",
    "\n",
    "X = (X - X.mean(axis=0))/X.std(axis=0)"
   ]
  },
  {
   "cell_type": "code",
   "execution_count": 22,
   "metadata": {},
   "outputs": [
    {
     "data": {
      "text/plain": [
       "PCA(copy=True, iterated_power='auto', n_components=5, random_state=None,\n",
       "  svd_solver='auto', tol=0.0, whiten=False)"
      ]
     },
     "execution_count": 22,
     "metadata": {},
     "output_type": "execute_result"
    }
   ],
   "source": [
    "pca.fit(X)"
   ]
  },
  {
   "cell_type": "code",
   "execution_count": 27,
   "metadata": {},
   "outputs": [
    {
     "data": {
      "text/plain": [
       "array([0.28173931, 0.1750827 , 0.1409585 , 0.11029387, 0.08720837])"
      ]
     },
     "execution_count": 27,
     "metadata": {},
     "output_type": "execute_result"
    }
   ],
   "source": [
    "pca.explained_variance_ratio_"
   ]
  },
  {
   "cell_type": "markdown",
   "metadata": {},
   "source": [
    "## PCA через ковариационную матрицу"
   ]
  },
  {
   "cell_type": "code",
   "execution_count": 29,
   "metadata": {},
   "outputs": [],
   "source": [
    "from numpy.linalg import eig"
   ]
  },
  {
   "cell_type": "code",
   "execution_count": 28,
   "metadata": {},
   "outputs": [],
   "source": [
    "C = X.T.dot(X)"
   ]
  },
  {
   "cell_type": "code",
   "execution_count": 31,
   "metadata": {},
   "outputs": [],
   "source": [
    "lambd, W = eig(C)"
   ]
  },
  {
   "cell_type": "code",
   "execution_count": 32,
   "metadata": {},
   "outputs": [
    {
     "data": {
      "text/plain": [
       "array([4955.51277263, 3079.52959367, 2479.31903855, 1939.95881639,\n",
       "       1533.90802208,   95.23374076,  289.95173334,  551.08274479,\n",
       "        676.30776275,  933.48215949, 1054.71361553])"
      ]
     },
     "execution_count": 32,
     "metadata": {},
     "output_type": "execute_result"
    }
   ],
   "source": [
    "lambd"
   ]
  },
  {
   "cell_type": "code",
   "execution_count": 40,
   "metadata": {},
   "outputs": [
    {
     "data": {
      "text/plain": [
       "array([[ 0.48931422, -0.23858436,  0.46363166,  0.14610715,  0.21224658,\n",
       "        -0.03615752,  0.02357485,  0.39535301, -0.43851962,  0.24292133,\n",
       "        -0.11323206],\n",
       "       [-0.11050274,  0.27493048, -0.15179136,  0.27208024,  0.14805156,\n",
       "         0.51356681,  0.56948696,  0.23357549,  0.00671079, -0.03755392,\n",
       "        -0.38618096]])"
      ]
     },
     "execution_count": 40,
     "metadata": {},
     "output_type": "execute_result"
    }
   ],
   "source": [
    "W.T[:2]"
   ]
  },
  {
   "cell_type": "code",
   "execution_count": 41,
   "metadata": {},
   "outputs": [],
   "source": [
    "W = W.T[:5, :]"
   ]
  },
  {
   "cell_type": "code",
   "execution_count": 39,
   "metadata": {},
   "outputs": [
    {
     "data": {
      "text/plain": [
       "array([[ 0.48931422, -0.23858436,  0.46363166,  0.14610715,  0.21224658,\n",
       "        -0.03615752,  0.02357485,  0.39535301, -0.43851962,  0.24292133,\n",
       "        -0.11323206],\n",
       "       [-0.11050274,  0.27493048, -0.15179136,  0.27208024,  0.14805156,\n",
       "         0.51356681,  0.56948696,  0.23357549,  0.00671079, -0.03755392,\n",
       "        -0.38618096]])"
      ]
     },
     "execution_count": 39,
     "metadata": {},
     "output_type": "execute_result"
    }
   ],
   "source": [
    "pca.components_[:2]"
   ]
  },
  {
   "cell_type": "code",
   "execution_count": 42,
   "metadata": {},
   "outputs": [],
   "source": [
    "Z = pca.transform(X)"
   ]
  },
  {
   "cell_type": "code",
   "execution_count": 43,
   "metadata": {},
   "outputs": [],
   "source": [
    "Z_ = X.dot(W.T)"
   ]
  },
  {
   "cell_type": "code",
   "execution_count": 45,
   "metadata": {},
   "outputs": [
    {
     "data": {
      "text/plain": [
       "array([[-1.61952988,  0.45095009, -1.77445415,  0.04374031,  0.06701448],\n",
       "       [-0.79916993,  1.85655306, -0.91169017,  0.54806597, -0.01839156],\n",
       "       [-0.74847909,  0.88203886, -1.17139423,  0.41102067, -0.04353101]])"
      ]
     },
     "execution_count": 45,
     "metadata": {},
     "output_type": "execute_result"
    }
   ],
   "source": [
    "Z[:3]"
   ]
  },
  {
   "cell_type": "code",
   "execution_count": 46,
   "metadata": {},
   "outputs": [
    {
     "data": {
      "text/plain": [
       "array([[-1.61952988,  0.45095009, -1.77445415,  0.04374031,  0.06701448],\n",
       "       [-0.79916993,  1.85655306, -0.91169017,  0.54806597, -0.01839156],\n",
       "       [-0.74847909,  0.88203886, -1.17139423,  0.41102067, -0.04353101]])"
      ]
     },
     "execution_count": 46,
     "metadata": {},
     "output_type": "execute_result"
    }
   ],
   "source": [
    "Z_[:3]"
   ]
  },
  {
   "cell_type": "code",
   "execution_count": 47,
   "metadata": {},
   "outputs": [
    {
     "data": {
      "text/plain": [
       "array([0.28173931, 0.1750827 , 0.1409585 , 0.11029387, 0.08720837])"
      ]
     },
     "execution_count": 47,
     "metadata": {},
     "output_type": "execute_result"
    }
   ],
   "source": [
    "pca.explained_variance_ratio_"
   ]
  },
  {
   "cell_type": "code",
   "execution_count": 49,
   "metadata": {},
   "outputs": [
    {
     "data": {
      "text/plain": [
       "array([0.28173931, 0.1750827 , 0.1409585 , 0.11029387, 0.08720837,\n",
       "       0.00541439, 0.01648483, 0.0313311 , 0.03845061, 0.05307193,\n",
       "       0.05996439])"
      ]
     },
     "execution_count": 49,
     "metadata": {},
     "output_type": "execute_result"
    }
   ],
   "source": [
    "exp_var = lambd/lambd.sum()\n",
    "exp_var"
   ]
  },
  {
   "cell_type": "markdown",
   "metadata": {},
   "source": [
    "## Оценка качества при разных количествах компонент\n",
    "\n",
    "Реализуйте 2 пайплайна:\n",
    "    * StandartScaler + LogisticRegression\n",
    "    * StandartScaler + PCA + LogisticRegression\n",
    "\n",
    "Оцените качество пайплайна с PCA при разных количествах компонент и сравните его с первым"
   ]
  },
  {
   "cell_type": "code",
   "execution_count": 50,
   "metadata": {},
   "outputs": [],
   "source": [
    "from sklearn.linear_model import LogisticRegression\n",
    "from sklearn.pipeline import Pipeline\n",
    "from sklearn.preprocessing import StandardScaler\n",
    "from sklearn.model_selection import StratifiedKFold, cross_val_score"
   ]
  },
  {
   "cell_type": "code",
   "execution_count": 51,
   "metadata": {},
   "outputs": [],
   "source": [
    "model1 = Pipeline([\n",
    "    ('scaler', StandardScaler()),\n",
    "    ('clf', LogisticRegression())\n",
    "])"
   ]
  },
  {
   "cell_type": "code",
   "execution_count": 52,
   "metadata": {},
   "outputs": [],
   "source": [
    "cv = StratifiedKFold(n_splits=5, random_state=123, shuffle=True)"
   ]
  },
  {
   "cell_type": "code",
   "execution_count": 55,
   "metadata": {
    "scrolled": false
   },
   "outputs": [
    {
     "name": "stderr",
     "output_type": "stream",
     "text": [
      "/Users/andrey.shestakov/anaconda3/lib/python3.7/site-packages/sklearn/linear_model/logistic.py:432: FutureWarning: Default solver will be changed to 'lbfgs' in 0.22. Specify a solver to silence this warning.\n",
      "  FutureWarning)\n",
      "/Users/andrey.shestakov/anaconda3/lib/python3.7/site-packages/sklearn/linear_model/logistic.py:432: FutureWarning: Default solver will be changed to 'lbfgs' in 0.22. Specify a solver to silence this warning.\n",
      "  FutureWarning)\n",
      "/Users/andrey.shestakov/anaconda3/lib/python3.7/site-packages/sklearn/linear_model/logistic.py:432: FutureWarning: Default solver will be changed to 'lbfgs' in 0.22. Specify a solver to silence this warning.\n",
      "  FutureWarning)\n",
      "/Users/andrey.shestakov/anaconda3/lib/python3.7/site-packages/sklearn/linear_model/logistic.py:432: FutureWarning: Default solver will be changed to 'lbfgs' in 0.22. Specify a solver to silence this warning.\n",
      "  FutureWarning)\n",
      "/Users/andrey.shestakov/anaconda3/lib/python3.7/site-packages/sklearn/linear_model/logistic.py:432: FutureWarning: Default solver will be changed to 'lbfgs' in 0.22. Specify a solver to silence this warning.\n",
      "  FutureWarning)\n"
     ]
    },
    {
     "data": {
      "text/plain": [
       "0.8171715339500574"
      ]
     },
     "execution_count": 55,
     "metadata": {},
     "output_type": "execute_result"
    }
   ],
   "source": [
    "score_model1 = cross_val_score(model1, X, y, cv=cv, scoring='roc_auc').mean()\n",
    "score_model1"
   ]
  },
  {
   "cell_type": "code",
   "execution_count": 58,
   "metadata": {},
   "outputs": [],
   "source": [
    "from sklearn.model_selection import validation_curve"
   ]
  },
  {
   "cell_type": "code",
   "execution_count": 59,
   "metadata": {
    "collapsed": true
   },
   "outputs": [
    {
     "name": "stderr",
     "output_type": "stream",
     "text": [
      "/Users/andrey.shestakov/anaconda3/lib/python3.7/site-packages/sklearn/linear_model/logistic.py:432: FutureWarning: Default solver will be changed to 'lbfgs' in 0.22. Specify a solver to silence this warning.\n",
      "  FutureWarning)\n",
      "/Users/andrey.shestakov/anaconda3/lib/python3.7/site-packages/sklearn/linear_model/logistic.py:432: FutureWarning: Default solver will be changed to 'lbfgs' in 0.22. Specify a solver to silence this warning.\n",
      "  FutureWarning)\n",
      "/Users/andrey.shestakov/anaconda3/lib/python3.7/site-packages/sklearn/linear_model/logistic.py:432: FutureWarning: Default solver will be changed to 'lbfgs' in 0.22. Specify a solver to silence this warning.\n",
      "  FutureWarning)\n",
      "/Users/andrey.shestakov/anaconda3/lib/python3.7/site-packages/sklearn/linear_model/logistic.py:432: FutureWarning: Default solver will be changed to 'lbfgs' in 0.22. Specify a solver to silence this warning.\n",
      "  FutureWarning)\n",
      "/Users/andrey.shestakov/anaconda3/lib/python3.7/site-packages/sklearn/linear_model/logistic.py:432: FutureWarning: Default solver will be changed to 'lbfgs' in 0.22. Specify a solver to silence this warning.\n",
      "  FutureWarning)\n",
      "/Users/andrey.shestakov/anaconda3/lib/python3.7/site-packages/sklearn/linear_model/logistic.py:432: FutureWarning: Default solver will be changed to 'lbfgs' in 0.22. Specify a solver to silence this warning.\n",
      "  FutureWarning)\n",
      "/Users/andrey.shestakov/anaconda3/lib/python3.7/site-packages/sklearn/linear_model/logistic.py:432: FutureWarning: Default solver will be changed to 'lbfgs' in 0.22. Specify a solver to silence this warning.\n",
      "  FutureWarning)\n",
      "/Users/andrey.shestakov/anaconda3/lib/python3.7/site-packages/sklearn/linear_model/logistic.py:432: FutureWarning: Default solver will be changed to 'lbfgs' in 0.22. Specify a solver to silence this warning.\n",
      "  FutureWarning)\n",
      "/Users/andrey.shestakov/anaconda3/lib/python3.7/site-packages/sklearn/linear_model/logistic.py:432: FutureWarning: Default solver will be changed to 'lbfgs' in 0.22. Specify a solver to silence this warning.\n",
      "  FutureWarning)\n",
      "/Users/andrey.shestakov/anaconda3/lib/python3.7/site-packages/sklearn/linear_model/logistic.py:432: FutureWarning: Default solver will be changed to 'lbfgs' in 0.22. Specify a solver to silence this warning.\n",
      "  FutureWarning)\n",
      "/Users/andrey.shestakov/anaconda3/lib/python3.7/site-packages/sklearn/linear_model/logistic.py:432: FutureWarning: Default solver will be changed to 'lbfgs' in 0.22. Specify a solver to silence this warning.\n",
      "  FutureWarning)\n",
      "/Users/andrey.shestakov/anaconda3/lib/python3.7/site-packages/sklearn/linear_model/logistic.py:432: FutureWarning: Default solver will be changed to 'lbfgs' in 0.22. Specify a solver to silence this warning.\n",
      "  FutureWarning)\n",
      "/Users/andrey.shestakov/anaconda3/lib/python3.7/site-packages/sklearn/linear_model/logistic.py:432: FutureWarning: Default solver will be changed to 'lbfgs' in 0.22. Specify a solver to silence this warning.\n",
      "  FutureWarning)\n",
      "/Users/andrey.shestakov/anaconda3/lib/python3.7/site-packages/sklearn/linear_model/logistic.py:432: FutureWarning: Default solver will be changed to 'lbfgs' in 0.22. Specify a solver to silence this warning.\n",
      "  FutureWarning)\n",
      "/Users/andrey.shestakov/anaconda3/lib/python3.7/site-packages/sklearn/linear_model/logistic.py:432: FutureWarning: Default solver will be changed to 'lbfgs' in 0.22. Specify a solver to silence this warning.\n",
      "  FutureWarning)\n",
      "/Users/andrey.shestakov/anaconda3/lib/python3.7/site-packages/sklearn/linear_model/logistic.py:432: FutureWarning: Default solver will be changed to 'lbfgs' in 0.22. Specify a solver to silence this warning.\n",
      "  FutureWarning)\n",
      "/Users/andrey.shestakov/anaconda3/lib/python3.7/site-packages/sklearn/linear_model/logistic.py:432: FutureWarning: Default solver will be changed to 'lbfgs' in 0.22. Specify a solver to silence this warning.\n",
      "  FutureWarning)\n",
      "/Users/andrey.shestakov/anaconda3/lib/python3.7/site-packages/sklearn/linear_model/logistic.py:432: FutureWarning: Default solver will be changed to 'lbfgs' in 0.22. Specify a solver to silence this warning.\n",
      "  FutureWarning)\n",
      "/Users/andrey.shestakov/anaconda3/lib/python3.7/site-packages/sklearn/linear_model/logistic.py:432: FutureWarning: Default solver will be changed to 'lbfgs' in 0.22. Specify a solver to silence this warning.\n",
      "  FutureWarning)\n",
      "/Users/andrey.shestakov/anaconda3/lib/python3.7/site-packages/sklearn/linear_model/logistic.py:432: FutureWarning: Default solver will be changed to 'lbfgs' in 0.22. Specify a solver to silence this warning.\n",
      "  FutureWarning)\n",
      "/Users/andrey.shestakov/anaconda3/lib/python3.7/site-packages/sklearn/linear_model/logistic.py:432: FutureWarning: Default solver will be changed to 'lbfgs' in 0.22. Specify a solver to silence this warning.\n",
      "  FutureWarning)\n",
      "/Users/andrey.shestakov/anaconda3/lib/python3.7/site-packages/sklearn/linear_model/logistic.py:432: FutureWarning: Default solver will be changed to 'lbfgs' in 0.22. Specify a solver to silence this warning.\n",
      "  FutureWarning)\n",
      "/Users/andrey.shestakov/anaconda3/lib/python3.7/site-packages/sklearn/linear_model/logistic.py:432: FutureWarning: Default solver will be changed to 'lbfgs' in 0.22. Specify a solver to silence this warning.\n",
      "  FutureWarning)\n",
      "/Users/andrey.shestakov/anaconda3/lib/python3.7/site-packages/sklearn/linear_model/logistic.py:432: FutureWarning: Default solver will be changed to 'lbfgs' in 0.22. Specify a solver to silence this warning.\n",
      "  FutureWarning)\n",
      "/Users/andrey.shestakov/anaconda3/lib/python3.7/site-packages/sklearn/linear_model/logistic.py:432: FutureWarning: Default solver will be changed to 'lbfgs' in 0.22. Specify a solver to silence this warning.\n",
      "  FutureWarning)\n",
      "/Users/andrey.shestakov/anaconda3/lib/python3.7/site-packages/sklearn/linear_model/logistic.py:432: FutureWarning: Default solver will be changed to 'lbfgs' in 0.22. Specify a solver to silence this warning.\n",
      "  FutureWarning)\n",
      "/Users/andrey.shestakov/anaconda3/lib/python3.7/site-packages/sklearn/linear_model/logistic.py:432: FutureWarning: Default solver will be changed to 'lbfgs' in 0.22. Specify a solver to silence this warning.\n",
      "  FutureWarning)\n",
      "/Users/andrey.shestakov/anaconda3/lib/python3.7/site-packages/sklearn/linear_model/logistic.py:432: FutureWarning: Default solver will be changed to 'lbfgs' in 0.22. Specify a solver to silence this warning.\n",
      "  FutureWarning)\n",
      "/Users/andrey.shestakov/anaconda3/lib/python3.7/site-packages/sklearn/linear_model/logistic.py:432: FutureWarning: Default solver will be changed to 'lbfgs' in 0.22. Specify a solver to silence this warning.\n",
      "  FutureWarning)\n",
      "/Users/andrey.shestakov/anaconda3/lib/python3.7/site-packages/sklearn/linear_model/logistic.py:432: FutureWarning: Default solver will be changed to 'lbfgs' in 0.22. Specify a solver to silence this warning.\n",
      "  FutureWarning)\n",
      "/Users/andrey.shestakov/anaconda3/lib/python3.7/site-packages/sklearn/linear_model/logistic.py:432: FutureWarning: Default solver will be changed to 'lbfgs' in 0.22. Specify a solver to silence this warning.\n",
      "  FutureWarning)\n",
      "/Users/andrey.shestakov/anaconda3/lib/python3.7/site-packages/sklearn/linear_model/logistic.py:432: FutureWarning: Default solver will be changed to 'lbfgs' in 0.22. Specify a solver to silence this warning.\n",
      "  FutureWarning)\n",
      "/Users/andrey.shestakov/anaconda3/lib/python3.7/site-packages/sklearn/linear_model/logistic.py:432: FutureWarning: Default solver will be changed to 'lbfgs' in 0.22. Specify a solver to silence this warning.\n",
      "  FutureWarning)\n",
      "/Users/andrey.shestakov/anaconda3/lib/python3.7/site-packages/sklearn/linear_model/logistic.py:432: FutureWarning: Default solver will be changed to 'lbfgs' in 0.22. Specify a solver to silence this warning.\n",
      "  FutureWarning)\n",
      "/Users/andrey.shestakov/anaconda3/lib/python3.7/site-packages/sklearn/linear_model/logistic.py:432: FutureWarning: Default solver will be changed to 'lbfgs' in 0.22. Specify a solver to silence this warning.\n",
      "  FutureWarning)\n",
      "/Users/andrey.shestakov/anaconda3/lib/python3.7/site-packages/sklearn/linear_model/logistic.py:432: FutureWarning: Default solver will be changed to 'lbfgs' in 0.22. Specify a solver to silence this warning.\n",
      "  FutureWarning)\n",
      "/Users/andrey.shestakov/anaconda3/lib/python3.7/site-packages/sklearn/linear_model/logistic.py:432: FutureWarning: Default solver will be changed to 'lbfgs' in 0.22. Specify a solver to silence this warning.\n",
      "  FutureWarning)\n",
      "/Users/andrey.shestakov/anaconda3/lib/python3.7/site-packages/sklearn/linear_model/logistic.py:432: FutureWarning: Default solver will be changed to 'lbfgs' in 0.22. Specify a solver to silence this warning.\n",
      "  FutureWarning)\n",
      "/Users/andrey.shestakov/anaconda3/lib/python3.7/site-packages/sklearn/linear_model/logistic.py:432: FutureWarning: Default solver will be changed to 'lbfgs' in 0.22. Specify a solver to silence this warning.\n",
      "  FutureWarning)\n"
     ]
    },
    {
     "name": "stderr",
     "output_type": "stream",
     "text": [
      "/Users/andrey.shestakov/anaconda3/lib/python3.7/site-packages/sklearn/linear_model/logistic.py:432: FutureWarning: Default solver will be changed to 'lbfgs' in 0.22. Specify a solver to silence this warning.\n",
      "  FutureWarning)\n",
      "/Users/andrey.shestakov/anaconda3/lib/python3.7/site-packages/sklearn/linear_model/logistic.py:432: FutureWarning: Default solver will be changed to 'lbfgs' in 0.22. Specify a solver to silence this warning.\n",
      "  FutureWarning)\n",
      "/Users/andrey.shestakov/anaconda3/lib/python3.7/site-packages/sklearn/linear_model/logistic.py:432: FutureWarning: Default solver will be changed to 'lbfgs' in 0.22. Specify a solver to silence this warning.\n",
      "  FutureWarning)\n",
      "/Users/andrey.shestakov/anaconda3/lib/python3.7/site-packages/sklearn/linear_model/logistic.py:432: FutureWarning: Default solver will be changed to 'lbfgs' in 0.22. Specify a solver to silence this warning.\n",
      "  FutureWarning)\n",
      "/Users/andrey.shestakov/anaconda3/lib/python3.7/site-packages/sklearn/linear_model/logistic.py:432: FutureWarning: Default solver will be changed to 'lbfgs' in 0.22. Specify a solver to silence this warning.\n",
      "  FutureWarning)\n",
      "/Users/andrey.shestakov/anaconda3/lib/python3.7/site-packages/sklearn/linear_model/logistic.py:432: FutureWarning: Default solver will be changed to 'lbfgs' in 0.22. Specify a solver to silence this warning.\n",
      "  FutureWarning)\n",
      "/Users/andrey.shestakov/anaconda3/lib/python3.7/site-packages/sklearn/linear_model/logistic.py:432: FutureWarning: Default solver will be changed to 'lbfgs' in 0.22. Specify a solver to silence this warning.\n",
      "  FutureWarning)\n",
      "/Users/andrey.shestakov/anaconda3/lib/python3.7/site-packages/sklearn/linear_model/logistic.py:432: FutureWarning: Default solver will be changed to 'lbfgs' in 0.22. Specify a solver to silence this warning.\n",
      "  FutureWarning)\n",
      "/Users/andrey.shestakov/anaconda3/lib/python3.7/site-packages/sklearn/linear_model/logistic.py:432: FutureWarning: Default solver will be changed to 'lbfgs' in 0.22. Specify a solver to silence this warning.\n",
      "  FutureWarning)\n",
      "/Users/andrey.shestakov/anaconda3/lib/python3.7/site-packages/sklearn/linear_model/logistic.py:432: FutureWarning: Default solver will be changed to 'lbfgs' in 0.22. Specify a solver to silence this warning.\n",
      "  FutureWarning)\n",
      "/Users/andrey.shestakov/anaconda3/lib/python3.7/site-packages/sklearn/linear_model/logistic.py:432: FutureWarning: Default solver will be changed to 'lbfgs' in 0.22. Specify a solver to silence this warning.\n",
      "  FutureWarning)\n",
      "/Users/andrey.shestakov/anaconda3/lib/python3.7/site-packages/sklearn/linear_model/logistic.py:432: FutureWarning: Default solver will be changed to 'lbfgs' in 0.22. Specify a solver to silence this warning.\n",
      "  FutureWarning)\n",
      "/Users/andrey.shestakov/anaconda3/lib/python3.7/site-packages/sklearn/linear_model/logistic.py:432: FutureWarning: Default solver will be changed to 'lbfgs' in 0.22. Specify a solver to silence this warning.\n",
      "  FutureWarning)\n",
      "/Users/andrey.shestakov/anaconda3/lib/python3.7/site-packages/sklearn/linear_model/logistic.py:432: FutureWarning: Default solver will be changed to 'lbfgs' in 0.22. Specify a solver to silence this warning.\n",
      "  FutureWarning)\n",
      "/Users/andrey.shestakov/anaconda3/lib/python3.7/site-packages/sklearn/linear_model/logistic.py:432: FutureWarning: Default solver will be changed to 'lbfgs' in 0.22. Specify a solver to silence this warning.\n",
      "  FutureWarning)\n",
      "/Users/andrey.shestakov/anaconda3/lib/python3.7/site-packages/sklearn/linear_model/logistic.py:432: FutureWarning: Default solver will be changed to 'lbfgs' in 0.22. Specify a solver to silence this warning.\n",
      "  FutureWarning)\n"
     ]
    }
   ],
   "source": [
    "k_range = range(1, 12)\n",
    "scores = []\n",
    "\n",
    "for k in k_range:\n",
    "    model2 = Pipeline([\n",
    "        ('scaler', StandardScaler()),\n",
    "        ('pca', PCA(n_components=k)),\n",
    "        ('clf', LogisticRegression())\n",
    "    ])\n",
    "\n",
    "    scores.append(cross_val_score(model2, X, y, cv=cv, scoring='roc_auc').mean())"
   ]
  },
  {
   "cell_type": "code",
   "execution_count": 62,
   "metadata": {},
   "outputs": [
    {
     "data": {
      "text/plain": [
       "<matplotlib.collections.LineCollection at 0x1a1e4f2898>"
      ]
     },
     "execution_count": 62,
     "metadata": {},
     "output_type": "execute_result"
    },
    {
     "data": {
      "image/png": "[encoded data removed]",
      "text/plain": [
       "<Figure size 864x576 with 1 Axes>"
      ]
     },
     "metadata": {},
     "output_type": "display_data"
    }
   ],
   "source": [
    "plt.plot(k_range, scores)\n",
    "plt.hlines(score_model1, 1,11)"
   ]
  },
  {
   "cell_type": "markdown",
   "metadata": {},
   "source": [
    "## Singular Value Decomposition\n",
    "\n",
    "Для любой матрицы $A$ размера $n \\times m$ и ранга $r$ можно найти разложение вида:\n",
    "$$ A = U \\Sigma V^\\top ,$$\n",
    "где \n",
    "* $U$ - унитарная матрица, состоящая из собственных векторов $AA^\\top$\n",
    "* $V$ - унитарная матрица, состоящая из собственных векторов $A^\\top A$\n",
    "* $\\Sigma$ - диагональная матрица с сингулярными числами $s_i = \\sqrt{\\lambda_i}$\n",
    "\n",
    "<center><img src='img/svd.jpg' width=600></center>"
   ]
  },
  {
   "cell_type": "markdown",
   "metadata": {},
   "source": [
    "## SVD via PCA\n",
    "Матрицы $U$ и $V$ ортогональны и могут быть использованы для перехода к ортогональному базису:\n",
    "$$ AV = U\\Sigma $$\n",
    "\n",
    "<center><img src='img/pca_svd.png' width=600></center>"
   ]
  },
  {
   "cell_type": "code",
   "execution_count": null,
   "metadata": {},
   "outputs": [],
   "source": [
    "from numpy.linalg import svd"
   ]
  },
  {
   "cell_type": "code",
   "execution_count": null,
   "metadata": {},
   "outputs": [],
   "source": []
  },
  {
   "cell_type": "markdown",
   "metadata": {},
   "source": [
    "## Рационы питания в странах"
   ]
  },
  {
   "cell_type": "markdown",
   "metadata": {},
   "source": [
    "* Загрузите набор данных о пищевом рационе в разных странах мира `diet.csv`\n",
    "* Примените на данных PCA с 2 компонентами\n",
    "* Изобразите объекты в сжатом пространстве"
   ]
  },
  {
   "cell_type": "code",
   "execution_count": 63,
   "metadata": {},
   "outputs": [],
   "source": [
    "df = pd.read_csv('data/diet.csv', sep=';')"
   ]
  },
  {
   "cell_type": "code",
   "execution_count": 64,
   "metadata": {},
   "outputs": [
    {
     "data": {
      "text/html": [
       "<div>\n",
       "<style scoped>\n",
       "    .dataframe tbody tr th:only-of-type {\n",
       "        vertical-align: middle;\n",
       "    }\n",
       "\n",
       "    .dataframe tbody tr th {\n",
       "        vertical-align: top;\n",
       "    }\n",
       "\n",
       "    .dataframe thead th {\n",
       "        text-align: right;\n",
       "    }\n",
       "</style>\n",
       "<table border=\"1\" class=\"dataframe\">\n",
       "  <thead>\n",
       "    <tr style=\"text-align: right;\">\n",
       "      <th></th>\n",
       "      <th>Countries</th>\n",
       "      <th>Energy (kcal/day)</th>\n",
       "      <th>Protein (g/day)</th>\n",
       "      <th>Fats (g/day)</th>\n",
       "      <th>Carbohydrates (g/day)</th>\n",
       "      <th>Animal Products + (kcal/day)</th>\n",
       "      <th>Animal Fats (kcal/day)</th>\n",
       "      <th>Bovine Meat (kcal/day)</th>\n",
       "      <th>Butter, Ghee (kcal/day)</th>\n",
       "      <th>Cheese (kcal/day)</th>\n",
       "      <th>...</th>\n",
       "      <th>Starchy Roots (kcal/day)</th>\n",
       "      <th>Sugar &amp; Sweeteners (kcal/day)</th>\n",
       "      <th>Sugar (Raw Equivalent) (kcal/day)</th>\n",
       "      <th>Sugar, Raw Equivalent (kcal/day)</th>\n",
       "      <th>Sugar, Refined Equiv (kcal/day)</th>\n",
       "      <th>Vegetable Oils (kcal/day)</th>\n",
       "      <th>Vegetables (kcal/day)</th>\n",
       "      <th>Wheat (kcal/day)</th>\n",
       "      <th>Wine (kcal/day)</th>\n",
       "      <th>Unnamed: 50</th>\n",
       "    </tr>\n",
       "  </thead>\n",
       "  <tbody>\n",
       "    <tr>\n",
       "      <th>0</th>\n",
       "      <td>Albania</td>\n",
       "      <td>2860.0</td>\n",
       "      <td>96</td>\n",
       "      <td>86</td>\n",
       "      <td>425.50</td>\n",
       "      <td>813.0</td>\n",
       "      <td>49</td>\n",
       "      <td>62</td>\n",
       "      <td>11</td>\n",
       "      <td>50</td>\n",
       "      <td>...</td>\n",
       "      <td>57</td>\n",
       "      <td>193</td>\n",
       "      <td>187</td>\n",
       "      <td>191</td>\n",
       "      <td>187</td>\n",
       "      <td>174</td>\n",
       "      <td>94</td>\n",
       "      <td>1166</td>\n",
       "      <td>6</td>\n",
       "      <td>NaN</td>\n",
       "    </tr>\n",
       "    <tr>\n",
       "      <th>1</th>\n",
       "      <td>Argentina</td>\n",
       "      <td>2980.0</td>\n",
       "      <td>94</td>\n",
       "      <td>100</td>\n",
       "      <td>426.00</td>\n",
       "      <td>823.0</td>\n",
       "      <td>72</td>\n",
       "      <td>342</td>\n",
       "      <td>28</td>\n",
       "      <td>90</td>\n",
       "      <td>...</td>\n",
       "      <td>100</td>\n",
       "      <td>406</td>\n",
       "      <td>337</td>\n",
       "      <td>405</td>\n",
       "      <td>337</td>\n",
       "      <td>311</td>\n",
       "      <td>51</td>\n",
       "      <td>914</td>\n",
       "      <td>59</td>\n",
       "      <td>NaN</td>\n",
       "    </tr>\n",
       "    <tr>\n",
       "      <th>2</th>\n",
       "      <td>Australia</td>\n",
       "      <td>3120.0</td>\n",
       "      <td>107</td>\n",
       "      <td>134</td>\n",
       "      <td>371.50</td>\n",
       "      <td>1033.0</td>\n",
       "      <td>124</td>\n",
       "      <td>142</td>\n",
       "      <td>62</td>\n",
       "      <td>107</td>\n",
       "      <td>...</td>\n",
       "      <td>87</td>\n",
       "      <td>423</td>\n",
       "      <td>407</td>\n",
       "      <td>415</td>\n",
       "      <td>407</td>\n",
       "      <td>435</td>\n",
       "      <td>67</td>\n",
       "      <td>559</td>\n",
       "      <td>39</td>\n",
       "      <td>NaN</td>\n",
       "    </tr>\n",
       "    <tr>\n",
       "      <th>3</th>\n",
       "      <td>Austria</td>\n",
       "      <td>3740.0</td>\n",
       "      <td>111</td>\n",
       "      <td>162</td>\n",
       "      <td>459.50</td>\n",
       "      <td>1219.0</td>\n",
       "      <td>320</td>\n",
       "      <td>59</td>\n",
       "      <td>102</td>\n",
       "      <td>193</td>\n",
       "      <td>...</td>\n",
       "      <td>113</td>\n",
       "      <td>437</td>\n",
       "      <td>404</td>\n",
       "      <td>424</td>\n",
       "      <td>404</td>\n",
       "      <td>442</td>\n",
       "      <td>61</td>\n",
       "      <td>617</td>\n",
       "      <td>55</td>\n",
       "      <td>NaN</td>\n",
       "    </tr>\n",
       "    <tr>\n",
       "      <th>4</th>\n",
       "      <td>Bangladesh</td>\n",
       "      <td>2200.0</td>\n",
       "      <td>48</td>\n",
       "      <td>25</td>\n",
       "      <td>445.75</td>\n",
       "      <td>65.0</td>\n",
       "      <td>5</td>\n",
       "      <td>5</td>\n",
       "      <td>3</td>\n",
       "      <td>0</td>\n",
       "      <td>...</td>\n",
       "      <td>42</td>\n",
       "      <td>59</td>\n",
       "      <td>29</td>\n",
       "      <td>59</td>\n",
       "      <td>29</td>\n",
       "      <td>131</td>\n",
       "      <td>10</td>\n",
       "      <td>180</td>\n",
       "      <td>0</td>\n",
       "      <td>NaN</td>\n",
       "    </tr>\n",
       "  </tbody>\n",
       "</table>\n",
       "<p>5 rows × 51 columns</p>\n",
       "</div>"
      ],
      "text/plain": [
       "    Countries  Energy (kcal/day)  Protein (g/day)  Fats (g/day)  \\\n",
       "0     Albania             2860.0               96            86   \n",
       "1   Argentina             2980.0               94           100   \n",
       "2   Australia             3120.0              107           134   \n",
       "3     Austria             3740.0              111           162   \n",
       "4  Bangladesh             2200.0               48            25   \n",
       "\n",
       "   Carbohydrates (g/day)  Animal Products + (kcal/day)  \\\n",
       "0                 425.50                         813.0   \n",
       "1                 426.00                         823.0   \n",
       "2                 371.50                        1033.0   \n",
       "3                 459.50                        1219.0   \n",
       "4                 445.75                          65.0   \n",
       "\n",
       "   Animal Fats (kcal/day)  Bovine Meat (kcal/day)  Butter, Ghee (kcal/day)  \\\n",
       "0                      49                      62                       11   \n",
       "1                      72                     342                       28   \n",
       "2                     124                     142                       62   \n",
       "3                     320                      59                      102   \n",
       "4                       5                       5                        3   \n",
       "\n",
       "   Cheese (kcal/day)     ...       Starchy Roots (kcal/day)  \\\n",
       "0                 50     ...                             57   \n",
       "1                 90     ...                            100   \n",
       "2                107     ...                             87   \n",
       "3                193     ...                            113   \n",
       "4                  0     ...                             42   \n",
       "\n",
       "   Sugar & Sweeteners (kcal/day)  Sugar (Raw Equivalent) (kcal/day)  \\\n",
       "0                            193                                187   \n",
       "1                            406                                337   \n",
       "2                            423                                407   \n",
       "3                            437                                404   \n",
       "4                             59                                 29   \n",
       "\n",
       "   Sugar, Raw Equivalent (kcal/day)  Sugar, Refined Equiv (kcal/day)  \\\n",
       "0                               191                              187   \n",
       "1                               405                              337   \n",
       "2                               415                              407   \n",
       "3                               424                              404   \n",
       "4                                59                               29   \n",
       "\n",
       "   Vegetable Oils (kcal/day)  Vegetables (kcal/day)  Wheat (kcal/day)  \\\n",
       "0                        174                     94              1166   \n",
       "1                        311                     51               914   \n",
       "2                        435                     67               559   \n",
       "3                        442                     61               617   \n",
       "4                        131                     10               180   \n",
       "\n",
       "   Wine (kcal/day)  Unnamed: 50  \n",
       "0                6          NaN  \n",
       "1               59          NaN  \n",
       "2               39          NaN  \n",
       "3               55          NaN  \n",
       "4                0          NaN  \n",
       "\n",
       "[5 rows x 51 columns]"
      ]
     },
     "execution_count": 64,
     "metadata": {},
     "output_type": "execute_result"
    }
   ],
   "source": [
    "df.head()"
   ]
  },
  {
   "cell_type": "code",
   "execution_count": 68,
   "metadata": {},
   "outputs": [],
   "source": [
    "X = df.iloc[:, 1:-1].values"
   ]
  },
  {
   "cell_type": "code",
   "execution_count": 70,
   "metadata": {},
   "outputs": [],
   "source": [
    "X_ = (X - X.mean(axis=0))/X.std(axis=0)\n",
    "pca = PCA(n_components=2, random_state=123)"
   ]
  },
  {
   "cell_type": "code",
   "execution_count": 74,
   "metadata": {},
   "outputs": [],
   "source": [
    "# pca.fit(X_)\n",
    "# Z = pca.transform(X_)\n",
    "Z = pca.fit_transform(X_) # Сразу fit на X а потом его transform"
   ]
  },
  {
   "cell_type": "code",
   "execution_count": 73,
   "metadata": {},
   "outputs": [
    {
     "data": {
      "text/plain": [
       "<matplotlib.collections.PathCollection at 0x1a1e978780>"
      ]
     },
     "execution_count": 73,
     "metadata": {},
     "output_type": "execute_result"
    },
    {
     "data": {
      "image/png": "[encoded data removed]",
      "text/plain": [
       "<Figure size 864x576 with 1 Axes>"
      ]
     },
     "metadata": {},
     "output_type": "display_data"
    }
   ],
   "source": [
    "plt.scatter(Z[:,0], Z[:,1])"
   ]
  },
  {
   "cell_type": "code",
   "execution_count": 75,
   "metadata": {},
   "outputs": [],
   "source": [
    "idx = Z[:, 1] > 20"
   ]
  },
  {
   "cell_type": "code",
   "execution_count": 110,
   "metadata": {},
   "outputs": [],
   "source": [
    "strange = df.loc[idx].values[0,1:-1]"
   ]
  },
  {
   "cell_type": "code",
   "execution_count": 111,
   "metadata": {},
   "outputs": [],
   "source": [
    "field_names = df.columns[1:-1].values"
   ]
  },
  {
   "cell_type": "code",
   "execution_count": 120,
   "metadata": {},
   "outputs": [
    {
     "data": {
      "text/plain": [
       "<matplotlib.axes._subplots.AxesSubplot at 0x1a1f0a1b00>"
      ]
     },
     "execution_count": 120,
     "metadata": {},
     "output_type": "execute_result"
    },
    {
     "data": {
      "image/png": "[encoded data removed]",
      "text/plain": [
       "<Figure size 864x576 with 1 Axes>"
      ]
     },
     "metadata": {},
     "output_type": "display_data"
    }
   ],
   "source": [
    "df.loc[:, 'Alcoholic Beverages (kcal/day)'].plot(kind='box')"
   ]
  },
  {
   "cell_type": "code",
   "execution_count": 117,
   "metadata": {},
   "outputs": [
    {
     "data": {
      "text/plain": [
       "array(['Energy (kcal/day)', 'Protein (g/day)', 'Fats (g/day)',\n",
       "       'Carbohydrates (g/day)', 'Animal Products + (kcal/day)',\n",
       "       'Animal Fats (kcal/day)', 'Bovine Meat (kcal/day)',\n",
       "       'Butter, Ghee (kcal/day)', 'Cheese (kcal/day)', 'Eggs (kcal/day)',\n",
       "       'Fats, Animals, Raw (kcal/day)', 'Fish, Seafood (kcal/day)',\n",
       "       'Freshwater Fish (kcal/day)', 'Honey (kcal/day)',\n",
       "       'Meat (kcal/day)', 'Milk - Excluding Butter (kcal/day)',\n",
       "       'Milk, Whole (kcal/day)', 'Mutton & Goat Meat (kcal/day)',\n",
       "       'Offals, Edible (kcal/day)', 'Pelagic Fish (kcal/day)',\n",
       "       'Pigmeat (kcal/day)', 'Poultry Meat (kcal/day)',\n",
       "       'Vegetal Products + (kcal/day)', 'Alcoholic Beverages (kcal/day)',\n",
       "       'Apples (kcal/day)', 'Bananas (kcal/day)', 'Beans (kcal/day)',\n",
       "       'Cereals - Excluding Beer (kcal/day)', 'Coconut Oil (kcal/day)',\n",
       "       'Coffee (kcal/day)', 'Fruits - Excluding Wine (kcal/day)',\n",
       "       'Nuts (kcal/day)', 'Olive Oil (kcal/day)', 'Palm Oil (kcal/day)',\n",
       "       'Potatoes (kcal/day)', 'Pulses (kcal/day)',\n",
       "       'Rice (Milled Equivalent) (kcal/day)',\n",
       "       'Rice (Paddy Equivalent) (kcal/day)',\n",
       "       'Roots & Tuber Dry Equiv (kcal/day)', 'Soyabean Oil (kcal/day)',\n",
       "       'Starchy Roots (kcal/day)', 'Sugar & Sweeteners (kcal/day)',\n",
       "       'Sugar (Raw Equivalent) (kcal/day)',\n",
       "       'Sugar, Raw Equivalent (kcal/day)',\n",
       "       'Sugar, Refined Equiv (kcal/day)', 'Vegetable Oils (kcal/day)',\n",
       "       'Vegetables (kcal/day)', 'Wheat (kcal/day)', 'Wine (kcal/day)'],\n",
       "      dtype=object)"
      ]
     },
     "execution_count": 117,
     "metadata": {},
     "output_type": "execute_result"
    }
   ],
   "source": [
    "field_names"
   ]
  },
  {
   "cell_type": "code",
   "execution_count": 112,
   "metadata": {},
   "outputs": [],
   "source": [
    "d = X - strange"
   ]
  },
  {
   "cell_type": "code",
   "execution_count": 116,
   "metadata": {},
   "outputs": [
    {
     "data": {
      "text/plain": [
       "Protein (g/day)                        -2973.47\n",
       "Alcoholic Beverages (kcal/day)         -2685.57\n",
       "Coconut Oil (kcal/day)                 -1799.71\n",
       "Wine (kcal/day)                        -1435.55\n",
       "Nuts (kcal/day)                         -208.36\n",
       "Animal Fats (kcal/day)                 -199.267\n",
       "Roots & Tuber Dry Equiv (kcal/day)     -184.116\n",
       "Vegetables (kcal/day)                  -138.791\n",
       "Rice (Paddy Equivalent) (kcal/day)     -77.0349\n",
       "Pulses (kcal/day)                      -44.0116\n",
       "Mutton & Goat Meat (kcal/day)          -35.9651\n",
       "Offals, Edible (kcal/day)               -31.907\n",
       "Bananas (kcal/day)                     -19.3605\n",
       "Olive Oil (kcal/day)                   -18.5581\n",
       "Soyabean Oil (kcal/day)                -9.47674\n",
       "Freshwater Fish (kcal/day)             -6.88372\n",
       "Honey (kcal/day)                      -0.337209\n",
       "Cheese (kcal/day)                        2.7907\n",
       "Coffee (kcal/day)                       2.82558\n",
       "Butter, Ghee (kcal/day)                     3.5\n",
       "Bovine Meat (kcal/day)                  6.32558\n",
       "Fats (g/day)                            7.17442\n",
       "Pelagic Fish (kcal/day)                 7.80233\n",
       "Starchy Roots (kcal/day)                9.60465\n",
       "Apples (kcal/day)                       12.0581\n",
       "Beans (kcal/day)                        13.5814\n",
       "Eggs (kcal/day)                         15.8837\n",
       "Fats, Animals, Raw (kcal/day)           25.5698\n",
       "Milk, Whole (kcal/day)                  30.6163\n",
       "Fish, Seafood (kcal/day)                33.0233\n",
       "Vegetable Oils (kcal/day)               40.6744\n",
       "Palm Oil (kcal/day)                     44.6512\n",
       "Sugar (Raw Equivalent) (kcal/day)       45.1977\n",
       "Animal Products + (kcal/day)             48.218\n",
       "Sugar, Refined Equiv (kcal/day)         49.1512\n",
       "Poultry Meat (kcal/day)                 62.5581\n",
       "Sugar, Raw Equivalent (kcal/day)         72.314\n",
       "Milk - Excluding Butter (kcal/day)      73.9884\n",
       "Potatoes (kcal/day)                     78.0465\n",
       "Pigmeat (kcal/day)                       88.593\n",
       "Fruits - Excluding Wine (kcal/day)      103.605\n",
       "Rice (Milled Equivalent) (kcal/day)     215.523\n",
       "Sugar & Sweeteners (kcal/day)           233.547\n",
       "Meat (kcal/day)                         237.128\n",
       "Carbohydrates (g/day)                   372.802\n",
       "Wheat (kcal/day)                        489.163\n",
       "Cereals - Excluding Beer (kcal/day)     1085.94\n",
       "Vegetal Products + (kcal/day)           2231.48\n",
       "Energy (kcal/day)                       2501.66\n",
       "dtype: object"
      ]
     },
     "execution_count": 116,
     "metadata": {},
     "output_type": "execute_result"
    }
   ],
   "source": [
    "pd.Series(index=field_names, data=d.mean(axis=0)).sort_values()"
   ]
  },
  {
   "cell_type": "markdown",
   "metadata": {},
   "source": [
    "* Скорее всего вы обнаружите некоторые выбросы, с этим ничего не поделать - PCA чувствителен к выбросам\n",
    "* Удалите объекты-выборосы и повторите процедуру"
   ]
  },
  {
   "cell_type": "markdown",
   "metadata": {},
   "source": [
    "# PCA для текстов\n",
    "#### Он же Latent Semantic Index или Latent Semantic Allocation"
   ]
  },
  {
   "cell_type": "markdown",
   "metadata": {},
   "source": [
    "* Когда мы работаем с текстами, бы обычно переходим к модели мешка слов\n",
    "* Что если мы ходим применить для текстов PCA?\n",
    "* Центрировать данные мы не можем, так как тогда наша огромная матрица с признаками будет плотной, а значит будет очень много весить\n",
    "* Давайте не будем центрировать! =D"
   ]
  },
  {
   "cell_type": "code",
   "execution_count": 121,
   "metadata": {},
   "outputs": [],
   "source": [
    "from sklearn.decomposition import TruncatedSVD"
   ]
  },
  {
   "cell_type": "code",
   "execution_count": 122,
   "metadata": {},
   "outputs": [],
   "source": [
    "df = pd.read_csv('data/sentiment/imdb_labelled.txt', sep='\\t', header=None, names=['text', 'label'])"
   ]
  },
  {
   "cell_type": "code",
   "execution_count": 123,
   "metadata": {},
   "outputs": [
    {
     "data": {
      "text/html": [
       "<div>\n",
       "<style scoped>\n",
       "    .dataframe tbody tr th:only-of-type {\n",
       "        vertical-align: middle;\n",
       "    }\n",
       "\n",
       "    .dataframe tbody tr th {\n",
       "        vertical-align: top;\n",
       "    }\n",
       "\n",
       "    .dataframe thead th {\n",
       "        text-align: right;\n",
       "    }\n",
       "</style>\n",
       "<table border=\"1\" class=\"dataframe\">\n",
       "  <thead>\n",
       "    <tr style=\"text-align: right;\">\n",
       "      <th></th>\n",
       "      <th>text</th>\n",
       "      <th>label</th>\n",
       "    </tr>\n",
       "  </thead>\n",
       "  <tbody>\n",
       "    <tr>\n",
       "      <th>0</th>\n",
       "      <td>A very, very, very slow-moving, aimless movie ...</td>\n",
       "      <td>0</td>\n",
       "    </tr>\n",
       "    <tr>\n",
       "      <th>1</th>\n",
       "      <td>Not sure who was more lost - the flat characte...</td>\n",
       "      <td>0</td>\n",
       "    </tr>\n",
       "    <tr>\n",
       "      <th>2</th>\n",
       "      <td>Attempting artiness with black &amp; white and cle...</td>\n",
       "      <td>0</td>\n",
       "    </tr>\n",
       "    <tr>\n",
       "      <th>3</th>\n",
       "      <td>Very little music or anything to speak of.</td>\n",
       "      <td>0</td>\n",
       "    </tr>\n",
       "    <tr>\n",
       "      <th>4</th>\n",
       "      <td>The best scene in the movie was when Gerardo i...</td>\n",
       "      <td>1</td>\n",
       "    </tr>\n",
       "  </tbody>\n",
       "</table>\n",
       "</div>"
      ],
      "text/plain": [
       "                                                text  label\n",
       "0  A very, very, very slow-moving, aimless movie ...      0\n",
       "1  Not sure who was more lost - the flat characte...      0\n",
       "2  Attempting artiness with black & white and cle...      0\n",
       "3       Very little music or anything to speak of.        0\n",
       "4  The best scene in the movie was when Gerardo i...      1"
      ]
     },
     "execution_count": 123,
     "metadata": {},
     "output_type": "execute_result"
    }
   ],
   "source": [
    "df.head()"
   ]
  },
  {
   "cell_type": "code",
   "execution_count": 124,
   "metadata": {},
   "outputs": [],
   "source": [
    "from sklearn.feature_extraction.text import CountVectorizer\n",
    "from sklearn.pipeline import Pipeline\n",
    "from sklearn.model_selection import StratifiedKFold\n",
    "from sklearn.model_selection import RandomizedSearchCV, GridSearchCV"
   ]
  },
  {
   "cell_type": "code",
   "execution_count": 125,
   "metadata": {},
   "outputs": [],
   "source": [
    "text = df.text.values"
   ]
  },
  {
   "cell_type": "code",
   "execution_count": 126,
   "metadata": {},
   "outputs": [],
   "source": [
    "vectorizer = CountVectorizer()\n",
    "X = vectorizer.fit_transform(text)"
   ]
  },
  {
   "cell_type": "code",
   "execution_count": 128,
   "metadata": {},
   "outputs": [
    {
     "data": {
      "text/plain": [
       "(748,)"
      ]
     },
     "execution_count": 128,
     "metadata": {},
     "output_type": "execute_result"
    }
   ],
   "source": [
    "text.shape"
   ]
  },
  {
   "cell_type": "code",
   "execution_count": 129,
   "metadata": {},
   "outputs": [
    {
     "data": {
      "text/plain": [
       "<748x3047 sparse matrix of type '<class 'numpy.int64'>'\n",
       "\twith 11363 stored elements in Compressed Sparse Row format>"
      ]
     },
     "execution_count": 129,
     "metadata": {},
     "output_type": "execute_result"
    }
   ],
   "source": [
    "X"
   ]
  },
  {
   "cell_type": "code",
   "execution_count": 127,
   "metadata": {},
   "outputs": [
    {
     "data": {
      "text/plain": [
       "(748, 3047)"
      ]
     },
     "execution_count": 127,
     "metadata": {},
     "output_type": "execute_result"
    }
   ],
   "source": [
    "X.shape"
   ]
  },
  {
   "cell_type": "code",
   "execution_count": 135,
   "metadata": {},
   "outputs": [],
   "source": [
    "pcaish = TruncatedSVD(n_components=3, random_state=123)\n",
    "pca = PCA(n_components=3, random_state=123)\n",
    "Z = pcaish.fit_transform(X)\n",
    "# Z = pca.fit_transform(X)"
   ]
  },
  {
   "cell_type": "code",
   "execution_count": 136,
   "metadata": {},
   "outputs": [
    {
     "data": {
      "text/plain": [
       "array([[ 0.27923403,  0.00931181, -0.19921826],\n",
       "       [ 2.00479625, -0.22796059, -0.33735339],\n",
       "       [ 3.35993389, -1.24344591,  1.14540515],\n",
       "       ...,\n",
       "       [ 0.56845862,  0.75834051,  0.25123094],\n",
       "       [ 0.04048141, -0.1155508 , -0.02562375],\n",
       "       [ 1.15704622, -0.18584428,  0.11468745]])"
      ]
     },
     "execution_count": 136,
     "metadata": {},
     "output_type": "execute_result"
    }
   ],
   "source": [
    "Z"
   ]
  },
  {
   "cell_type": "code",
   "execution_count": 138,
   "metadata": {},
   "outputs": [],
   "source": [
    "model = Pipeline([\n",
    "    ('vect', CountVectorizer(max_df=0.95, stop_words='english', ngram_range=(1,1))),\n",
    "    ('pca', TruncatedSVD(n_components=3, random_state=123)),\n",
    "    ('clf', LogisticRegression())\n",
    "])"
   ]
  },
  {
   "cell_type": "code",
   "execution_count": 139,
   "metadata": {},
   "outputs": [],
   "source": [
    "label = df.label.values"
   ]
  },
  {
   "cell_type": "code",
   "execution_count": 140,
   "metadata": {},
   "outputs": [
    {
     "name": "stderr",
     "output_type": "stream",
     "text": [
      "/Users/andrey.shestakov/anaconda3/lib/python3.7/site-packages/sklearn/linear_model/logistic.py:432: FutureWarning: Default solver will be changed to 'lbfgs' in 0.22. Specify a solver to silence this warning.\n",
      "  FutureWarning)\n"
     ]
    },
    {
     "data": {
      "text/plain": [
       "Pipeline(memory=None,\n",
       "     steps=[('vect', CountVectorizer(analyzer='word', binary=False, decode_error='strict',\n",
       "        dtype=<class 'numpy.int64'>, encoding='utf-8', input='content',\n",
       "        lowercase=True, max_df=0.95, max_features=None, min_df=1,\n",
       "        ngram_range=(1, 1), preprocessor=None, stop_words='english',\n",
       "       ...penalty='l2', random_state=None, solver='warn',\n",
       "          tol=0.0001, verbose=0, warm_start=False))])"
      ]
     },
     "execution_count": 140,
     "metadata": {},
     "output_type": "execute_result"
    }
   ],
   "source": [
    "model.fit(text, label)"
   ]
  },
  {
   "cell_type": "markdown",
   "metadata": {},
   "source": [
    "# T-SNE"
   ]
  },
  {
   "cell_type": "markdown",
   "metadata": {},
   "source": [
    "#### Задание\n",
    "Сожмите признаковое пространство данных с цифрами с помощью tsne."
   ]
  },
  {
   "cell_type": "code",
   "execution_count": 141,
   "metadata": {},
   "outputs": [],
   "source": [
    "from sklearn.datasets import load_digits"
   ]
  },
  {
   "cell_type": "code",
   "execution_count": 142,
   "metadata": {},
   "outputs": [],
   "source": [
    "data = load_digits()"
   ]
  },
  {
   "cell_type": "code",
   "execution_count": 144,
   "metadata": {},
   "outputs": [],
   "source": [
    "labels = data['target']"
   ]
  },
  {
   "cell_type": "code",
   "execution_count": 146,
   "metadata": {},
   "outputs": [],
   "source": [
    "imgs = data['images']"
   ]
  },
  {
   "cell_type": "code",
   "execution_count": null,
   "metadata": {},
   "outputs": [],
   "source": [
    "plt.imshow(imgs[1], cmap=plt.cm.gray_r)"
   ]
  },
  {
   "cell_type": "code",
   "execution_count": 151,
   "metadata": {},
   "outputs": [],
   "source": [
    "X = data['data']"
   ]
  },
  {
   "cell_type": "code",
   "execution_count": 152,
   "metadata": {},
   "outputs": [
    {
     "data": {
      "text/plain": [
       "(1797, 64)"
      ]
     },
     "execution_count": 152,
     "metadata": {},
     "output_type": "execute_result"
    }
   ],
   "source": [
    "X.shape"
   ]
  },
  {
   "cell_type": "code",
   "execution_count": 153,
   "metadata": {},
   "outputs": [],
   "source": [
    "from sklearn.manifold import TSNE"
   ]
  },
  {
   "cell_type": "code",
   "execution_count": 166,
   "metadata": {},
   "outputs": [],
   "source": [
    "tsne = TSNE(perplexity=5,)"
   ]
  },
  {
   "cell_type": "code",
   "execution_count": 167,
   "metadata": {},
   "outputs": [
    {
     "data": {
      "text/plain": [
       "TSNE(angle=0.5, early_exaggeration=12.0, init='random', learning_rate=200.0,\n",
       "   method='barnes_hut', metric='euclidean', min_grad_norm=1e-07,\n",
       "   n_components=2, n_iter=1000, n_iter_without_progress=300, perplexity=5,\n",
       "   random_state=None, verbose=0)"
      ]
     },
     "execution_count": 167,
     "metadata": {},
     "output_type": "execute_result"
    }
   ],
   "source": [
    "tsne.fit(X)"
   ]
  },
  {
   "cell_type": "code",
   "execution_count": 168,
   "metadata": {},
   "outputs": [],
   "source": [
    "Z = tsne.embedding_"
   ]
  },
  {
   "cell_type": "code",
   "execution_count": 169,
   "metadata": {},
   "outputs": [
    {
     "data": {
      "text/plain": [
       "<matplotlib.collections.PathCollection at 0x1a210440f0>"
      ]
     },
     "execution_count": 169,
     "metadata": {},
     "output_type": "execute_result"
    },
    {
     "data": {
      "image/png": "[encoded data removed]",
      "text/plain": [
       "<Figure size 864x576 with 1 Axes>"
      ]
     },
     "metadata": {},
     "output_type": "display_data"
    }
   ],
   "source": [
    "plt.scatter(Z[:, 0], Z[:, 1], c=labels)"
   ]
  },
  {
   "cell_type": "code",
   "execution_count": 165,
   "metadata": {},
   "outputs": [
    {
     "data": {
      "text/plain": [
       "<matplotlib.collections.PathCollection at 0x11b04bf98>"
      ]
     },
     "execution_count": 165,
     "metadata": {},
     "output_type": "execute_result"
    },
    {
     "data": {
      "image/png": "[encoded data removed]",
      "text/plain": [
       "<Figure size 864x576 with 1 Axes>"
      ]
     },
     "metadata": {},
     "output_type": "display_data"
    }
   ],
   "source": [
    "plt.scatter(Z[:, 0], Z[:, 1], c=labels)"
   ]
  }
 ],
 "metadata": {
  "anaconda-cloud": {},
  "kernelspec": {
   "display_name": "Python 3",
   "language": "python",
   "name": "python3"
  },
  "language_info": {
   "codemirror_mode": {
    "name": "ipython",
    "version": 3
   },
   "file_extension": ".py",
   "mimetype": "text/x-python",
   "name": "python",
   "nbconvert_exporter": "python",
   "pygments_lexer": "ipython3",
   "version": "3.7.0"
  },
  "toc": {
   "base_numbering": 1,
   "nav_menu": {
    "height": "142px",
    "width": "252px"
   },
   "number_sections": false,
   "sideBar": true,
   "skip_h1_title": false,
   "title_cell": "Table of Contents",
   "title_sidebar": "Contents",
   "toc_cell": false,
   "toc_position": {},
   "toc_section_display": "block",
   "toc_window_display": false
  }
 },
 "nbformat": 4,
 "nbformat_minor": 2
}
